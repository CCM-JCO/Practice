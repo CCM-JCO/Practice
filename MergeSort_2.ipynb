{
 "cells": [
  {
   "cell_type": "code",
   "execution_count": null,
   "metadata": {},
   "outputs": [],
   "source": [
    "def MergeSort(list):\n",
    "    if len(list) > 1:\n",
    "        mid = len(list)//2\n",
    "        left = list[:mid]\n",
    "        right = list[mid:]\n",
    "        \n",
    "        MergeSort(left) # Repeats until length of each list is 1\n",
    "        MergeSort(right)\n",
    "        \n",
    "        a = 0\n",
    "        b = 0\n",
    "        c = 0\n",
    "        while a < len(left) and b < len(right):\n",
    "            \n",
    "            if left[a] < right[b]:\n",
    "                list[c] = left[a]\n",
    "                a = a + 1\n",
    "            else:\n",
    "                list[c] = right[b]\n",
    "                b = b + 1\n",
    "                \n",
    "            c = c + 1\n",
    "            \n",
    "        while a < len(left):\n",
    "            \n",
    "            list[c] = left[a]\n",
    "            a = a + 1\n",
    "            c = c + 1\n",
    "            \n",
    "        while b < len(right):\n",
    "            \n",
    "            list[c] = right[b]\n",
    "            b = b + 1\n",
    "            c = c + 1\n",
    "            \n",
    "return list"
   ]
  }
 ],
 "metadata": {
  "kernelspec": {
   "display_name": "Python 3",
   "language": "python",
   "name": "python3"
  },
  "language_info": {
   "codemirror_mode": {
    "name": "ipython",
    "version": 3
   },
   "file_extension": ".py",
   "mimetype": "text/x-python",
   "name": "python",
   "nbconvert_exporter": "python",
   "pygments_lexer": "ipython3",
   "version": "3.8.5"
  }
 },
 "nbformat": 4,
 "nbformat_minor": 4
}
