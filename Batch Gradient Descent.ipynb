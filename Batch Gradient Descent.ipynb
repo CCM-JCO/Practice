{
 "cells": [
  {
   "cell_type": "code",
   "execution_count": 3,
   "metadata": {},
   "outputs": [],
   "source": [
    "import numpy as np\n",
    "\n",
    "def hypothesis(b,m,x):\n",
    "    predicted_y = b + m*x\n",
    "    return predicted_y\n",
    "\n",
    "def cost(b, m, points):\n",
    "    totalError = 0\n",
    "    M = float(len(points))\n",
    "    for i in range(len(points)):\n",
    "        x = float(points[i, 0])\n",
    "        y = float(points[i, 1])\n",
    "        totalError += (1/(2*M)) * ((hypothesis(b,m,x) - y)**2)\n",
    "    return totalError\n",
    "\n",
    "def gradient_descent(b, m, points, alpha, epochs):\n",
    "    partial_b=partial_m=0\n",
    "    new_b = b\n",
    "    new_m = m\n",
    "    for convergence in range(epochs):\n",
    "        for i in range(len(points)):\n",
    "            x = float(points[i, 0])\n",
    "            y = float(points[i, 1])\n",
    "            partial_b += (1/float(len(points))) * (hypothesis(new_b,new_m,x)-y)\n",
    "            partial_m += (1/float(len(points))) * (hypothesis(new_b,new_m,x)-y) * x\n",
    "            new_b = b - alpha*partial_b\n",
    "            new_m = m - alpha*partial_m\n",
    "    return [new_b, new_m]"
   ]
  }
 ],
 "metadata": {
  "kernelspec": {
   "display_name": "Python 3",
   "language": "python",
   "name": "python3"
  },
  "language_info": {
   "codemirror_mode": {
    "name": "ipython",
    "version": 3
   },
   "file_extension": ".py",
   "mimetype": "text/x-python",
   "name": "python",
   "nbconvert_exporter": "python",
   "pygments_lexer": "ipython3",
   "version": "3.8.5"
  }
 },
 "nbformat": 4,
 "nbformat_minor": 4
}
