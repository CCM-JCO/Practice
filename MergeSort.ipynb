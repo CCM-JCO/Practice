{
 "cells": [
  {
   "cell_type": "code",
   "execution_count": null,
   "metadata": {},
   "outputs": [],
   "source": [
    "def mergeSort(A):\n",
    "    if len(A) > 1:\n",
    "        print('splitting ', A)\n",
    "        mid= len(A)//2\n",
    "        left=A[:mid]\n",
    "        right=A[mid:]\n",
    "        #recursive calls to mergeSort for left and right subarrays\n",
    "        mergeSort(left)\n",
    "        mergeSort(right)\n",
    "        #initializes pointers for left(i) right(j) and output array (k)\n",
    "        # 3  initialization operations\n",
    "        i = j = k = 0\n",
    "        #Traveerse and merges the sorted arrays\n",
    "        while i < len(left) and j < len(right):\n",
    "            "
   ]
  }
 ],
 "metadata": {
  "kernelspec": {
   "display_name": "Python 3",
   "language": "python",
   "name": "python3"
  },
  "language_info": {
   "codemirror_mode": {
    "name": "ipython",
    "version": 3
   },
   "file_extension": ".py",
   "mimetype": "text/x-python",
   "name": "python",
   "nbconvert_exporter": "python",
   "pygments_lexer": "ipython3",
   "version": "3.8.5"
  }
 },
 "nbformat": 4,
 "nbformat_minor": 4
}
