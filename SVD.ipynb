{
 "cells": [
  {
   "cell_type": "code",
   "execution_count": 8,
   "metadata": {},
   "outputs": [
    {
     "name": "stdout",
     "output_type": "stream",
     "text": [
      "[[2.22044605e-16]\n",
      " [7.77156117e-16]\n",
      " [1.11022302e-16]\n",
      " [4.44089210e-16]\n",
      " [5.55111512e-16]]\n"
     ]
    }
   ],
   "source": [
    "from numpy import diag, zeros, vstack\n",
    "from numpy.random import rand, seed\n",
    "from numpy.linalg import svd, pinv\n",
    "\n",
    "seed(12345)\n",
    "n = 5\n",
    "p = 8\n",
    "X = rand(n, p)\n",
    "y = rand(n, 1)\n",
    "U, S, VT = svd(X)\n",
    "\n",
    "SI = diag(1/S)\n",
    "pseudo_inv = VT.T @ vstack((SI, zeros((p-n,n)))) @ U.T\n",
    "b = pseudo_inv @ y\n",
    "print(X @ b - y)"
   ]
  },
  {
   "cell_type": "code",
   "execution_count": 9,
   "metadata": {},
   "outputs": [
    {
     "data": {
      "text/plain": [
       "array([[0.26824178, 0.        , 0.        , 0.        , 0.        ],\n",
       "       [0.        , 0.77795873, 0.        , 0.        , 0.        ],\n",
       "       [0.        , 0.        , 1.2811637 , 0.        , 0.        ],\n",
       "       [0.        , 0.        , 0.        , 1.52790728, 0.        ],\n",
       "       [0.        , 0.        , 0.        , 0.        , 3.07678138]])"
      ]
     },
     "execution_count": 9,
     "metadata": {},
     "output_type": "execute_result"
    }
   ],
   "source": [
    "SI"
   ]
  },
  {
   "cell_type": "code",
   "execution_count": 13,
   "metadata": {},
   "outputs": [
    {
     "data": {
      "text/plain": [
       "array([[0.26824178, 0.        , 0.        , 0.        , 0.        ],\n",
       "       [0.        , 0.77795873, 0.        , 0.        , 0.        ],\n",
       "       [0.        , 0.        , 1.2811637 , 0.        , 0.        ],\n",
       "       [0.        , 0.        , 0.        , 1.52790728, 0.        ],\n",
       "       [0.        , 0.        , 0.        , 0.        , 3.07678138],\n",
       "       [0.        , 0.        , 0.        , 0.        , 0.        ],\n",
       "       [0.        , 0.        , 0.        , 0.        , 0.        ],\n",
       "       [0.        , 0.        , 0.        , 0.        , 0.        ]])"
      ]
     },
     "execution_count": 13,
     "metadata": {},
     "output_type": "execute_result"
    }
   ],
   "source": [
    "vstack((SI, zeros((p-n, n))))"
   ]
  },
  {
   "cell_type": "code",
   "execution_count": null,
   "metadata": {},
   "outputs": [],
   "source": []
  }
 ],
 "metadata": {
  "kernelspec": {
   "display_name": "Python 3",
   "language": "python",
   "name": "python3"
  },
  "language_info": {
   "codemirror_mode": {
    "name": "ipython",
    "version": 3
   },
   "file_extension": ".py",
   "mimetype": "text/x-python",
   "name": "python",
   "nbconvert_exporter": "python",
   "pygments_lexer": "ipython3",
   "version": "3.8.5"
  }
 },
 "nbformat": 4,
 "nbformat_minor": 4
}
