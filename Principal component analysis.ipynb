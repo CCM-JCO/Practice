{
 "cells": [
  {
   "cell_type": "code",
   "execution_count": 2,
   "metadata": {},
   "outputs": [],
   "source": [
    "from sklearn.decomposition import PCA\n",
    "import pandas as pd"
   ]
  },
  {
   "cell_type": "code",
   "execution_count": 3,
   "metadata": {},
   "outputs": [
    {
     "data": {
      "text/plain": [
       "PCA(n_components=4)"
      ]
     },
     "execution_count": 3,
     "metadata": {},
     "output_type": "execute_result"
    }
   ],
   "source": [
    "iris = pd.read_csv('iris.csv', header=None)\n",
    "iris.columns = ['Sepal.Length', 'Sepal.Width', 'Petal.Length', 'Petal.Width',\n",
    "               'Species']\n",
    "X=iris.drop('Species', axis=1)\n",
    "pca = PCA(n_components=4)\n",
    "pca.fit(X)"
   ]
  },
  {
   "cell_type": "code",
   "execution_count": 8,
   "metadata": {},
   "outputs": [
    {
     "name": "stdout",
     "output_type": "stream",
     "text": [
      "   Sepal.Length  Sepal.Width  Petal.Length  Petal.Width\n",
      "0      0.361590    -0.082269      0.856572     0.358844\n",
      "1      0.656540     0.729712     -0.175767    -0.074706\n",
      "2     -0.580997     0.596418      0.072524     0.549061\n",
      "3      0.317255    -0.324094     -0.479719     0.751121\n"
     ]
    }
   ],
   "source": [
    "print(pd.DataFrame(pca.components_, columns=X.columns))"
   ]
  },
  {
   "cell_type": "code",
   "execution_count": 35,
   "metadata": {},
   "outputs": [],
   "source": [
    "pca_df = (pd.DataFrame(pca.components_, columns=X.columns))"
   ]
  },
  {
   "cell_type": "code",
   "execution_count": 36,
   "metadata": {},
   "outputs": [],
   "source": [
    "X['PC1'] = (X['Sepal.Length'] * pca_df['Sepal.Length'][0] +\n",
    "            X['Sepal.Width'] * pca_df['Sepal.Width'][0] +\n",
    "            X['Petal.Length'] * pca_df['Petal.Length'][0] +\n",
    "            X['Petal.Width'] * pca_df['Petal.Width'][0])"
   ]
  },
  {
   "cell_type": "code",
   "execution_count": 37,
   "metadata": {},
   "outputs": [],
   "source": [
    "X['PC2'] = (X['Sepal.Length'] * pca_df['Sepal.Length'][1] +\n",
    "            X['Sepal.Width'] * pca_df['Sepal.Width'][1] +\n",
    "            X['Petal.Length'] * pca_df['Petal.Length'][1] +\n",
    "            X['Petal.Width'] * pca_df['Petal.Width'][1])"
   ]
  },
  {
   "cell_type": "code",
   "execution_count": 38,
   "metadata": {},
   "outputs": [],
   "source": [
    "X['PC3'] = (X['Sepal.Length'] * pca_df['Sepal.Length'][2] +\n",
    "            X['Sepal.Width'] * pca_df['Sepal.Width'][2] +\n",
    "            X['Petal.Length'] * pca_df['Petal.Length'][2] +\n",
    "            X['Petal.Width'] * pca_df['Petal.Width'][2])"
   ]
  },
  {
   "cell_type": "code",
   "execution_count": 39,
   "metadata": {},
   "outputs": [],
   "source": [
    "X['PC4'] = (X['Sepal.Length'] * pca_df['Sepal.Length'][3] +\n",
    "            X['Sepal.Width'] * pca_df['Sepal.Width'][3] +\n",
    "            X['Petal.Length'] * pca_df['Petal.Length'][3] +\n",
    "            X['Petal.Width'] * pca_df['Petal.Width'][3])"
   ]
  },
  {
   "cell_type": "code",
   "execution_count": 40,
   "metadata": {},
   "outputs": [
    {
     "name": "stdout",
     "output_type": "stream",
     "text": [
      "     Sepal.Length  Sepal.Width  Petal.Length  Petal.Width       PC1       PC2  \\\n",
      "0             5.1          3.5           1.4          0.2  2.827136  5.641331   \n",
      "1             4.9          3.0           1.4          0.2  2.795952  5.145167   \n",
      "2             4.7          3.2           1.3          0.2  2.621524  5.177378   \n",
      "3             4.6          3.1           1.5          0.2  2.764906  5.003599   \n",
      "4             5.0          3.6           1.4          0.2  2.782750  5.648648   \n",
      "..            ...          ...           ...          ...       ...       ...   \n",
      "145           6.7          3.0           5.2          2.3  7.455360  5.502139   \n",
      "146           6.3          2.5           5.0          1.9  7.037007  4.939703   \n",
      "147           6.5          3.0           5.2          2.0  7.275389  5.393243   \n",
      "148           6.2          3.4           5.4          2.3  7.412972  5.430600   \n",
      "149           5.9          3.0           5.1          1.8  6.901009  5.031837   \n",
      "\n",
      "          PC3       PC4  \n",
      "0   -0.664277 -0.037715  \n",
      "1   -0.846287  0.060882  \n",
      "2   -0.618056 -0.019416  \n",
      "3   -0.605093 -0.114676  \n",
      "4   -0.546535 -0.101849  \n",
      "..        ...       ...  \n",
      "145 -0.463462  0.386361  \n",
      "146 -0.763402  0.217002  \n",
      "147 -0.511981  0.097574  \n",
      "148  0.080108  0.002152  \n",
      "149 -0.280447 -0.195031  \n",
      "\n",
      "[150 rows x 8 columns]\n"
     ]
    }
   ],
   "source": [
    "print(X)"
   ]
  },
  {
   "cell_type": "code",
   "execution_count": 9,
   "metadata": {},
   "outputs": [
    {
     "name": "stdout",
     "output_type": "stream",
     "text": [
      "[0.92461621 0.05301557 0.01718514 0.00518309]\n"
     ]
    }
   ],
   "source": [
    "print(pca.explained_variance_ratio_)"
   ]
  },
  {
   "cell_type": "code",
   "execution_count": null,
   "metadata": {},
   "outputs": [],
   "source": []
  },
  {
   "cell_type": "code",
   "execution_count": null,
   "metadata": {},
   "outputs": [],
   "source": [
    "X_centered = X - X.means(axis=0)\n",
    "U, s, Vt = np.linalg.svd(X_centered)\n",
    "c1 = Vt.T[:, 0]\n",
    "c2 = Vt.T[:, 1]"
   ]
  }
 ],
 "metadata": {
  "kernelspec": {
   "display_name": "Python 3",
   "language": "python",
   "name": "python3"
  },
  "language_info": {
   "codemirror_mode": {
    "name": "ipython",
    "version": 3
   },
   "file_extension": ".py",
   "mimetype": "text/x-python",
   "name": "python",
   "nbconvert_exporter": "python",
   "pygments_lexer": "ipython3",
   "version": "3.8.5"
  }
 },
 "nbformat": 4,
 "nbformat_minor": 4
}
