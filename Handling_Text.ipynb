{
 "cells": [
  {
   "cell_type": "code",
   "execution_count": 6,
   "metadata": {},
   "outputs": [],
   "source": [
    "import pprint"
   ]
  },
  {
   "cell_type": "code",
   "execution_count": 5,
   "metadata": {},
   "outputs": [],
   "source": [
    "text_data = [\" AI and Machine Learning for Coders. By Laurence Moroney\",\n",
    "             \"    Mathematics for Machine Learning. By Marc Peter Deisenroth\",\n",
    "             \"  Linear Algebra and Optimization for Machine Learning By Charu C. Aggarwal\"]"
   ]
  },
  {
   "cell_type": "code",
   "execution_count": 7,
   "metadata": {},
   "outputs": [
    {
     "name": "stdout",
     "output_type": "stream",
     "text": [
      "['AI and Machine Learning for Coders. By Laurence Moroney',\n",
      " 'Mathematics for Machine Learning. By Marc Peter Deisenroth',\n",
      " 'Linear Algebra and Optimization for Machine Learning By Charu C. Aggarwal']\n"
     ]
    }
   ],
   "source": [
    "# Strip whitespaces\n",
    "\n",
    "strip_whitespace = [string.strip() for string in text_data]\n",
    "pprint.pprint(strip_whitespace)"
   ]
  },
  {
   "cell_type": "code",
   "execution_count": 9,
   "metadata": {},
   "outputs": [
    {
     "name": "stdout",
     "output_type": "stream",
     "text": [
      "['AI and Machine Learning for Coders By Laurence Moroney',\n",
      " 'Mathematics for Machine Learning By Marc Peter Deisenroth',\n",
      " 'Linear Algebra and Optimization for Machine Learning By Charu C Aggarwal']\n"
     ]
    }
   ],
   "source": [
    "remove_periods = [string.replace(\".\", \"\") for string in strip_whitespace]\n",
    "pprint.pprint(remove_periods)"
   ]
  },
  {
   "cell_type": "code",
   "execution_count": null,
   "metadata": {},
   "outputs": [],
   "source": [
    "# Create function\n",
    "def capitalizer(string: str) -> str:\n",
    "    return string.upper"
   ]
  },
  {
   "cell_type": "code",
   "execution_count": null,
   "metadata": {},
   "outputs": [],
   "source": [
    "# tokenizing text"
   ]
  },
  {
   "cell_type": "code",
   "execution_count": 19,
   "metadata": {},
   "outputs": [
    {
     "name": "stdout",
     "output_type": "stream",
     "text": [
      "{'today': 1, 'is': 2, 'a': 3, 'day': 4, 'sunny': 5, 'rainy': 6}\n"
     ]
    }
   ],
   "source": [
    "import tensorflow as tf\n",
    "from tensorflow import keras\n",
    "from tensorflow.keras.preprocessing.text import Tokenizer\n",
    "\n",
    "sentences = [\n",
    "    'Today is a sunny day',\n",
    "    'Today is a rainy day'\n",
    "]\n",
    "tokenizer = Tokenizer(num_words=100)\n",
    "tokenizer.fit_on_texts(sentences)\n",
    "word_index = tokenizer.word_index\n",
    "print(word_index)"
   ]
  },
  {
   "cell_type": "code",
   "execution_count": 20,
   "metadata": {},
   "outputs": [],
   "source": [
    "sentences = [\n",
    "    'Today is a sunny day',\n",
    "    'Today is a rainy day',\n",
    "    'Is it sunny today?'\n",
    "]"
   ]
  },
  {
   "cell_type": "code",
   "execution_count": 21,
   "metadata": {},
   "outputs": [
    {
     "name": "stdout",
     "output_type": "stream",
     "text": [
      "{'today': 1, 'is': 2, 'a': 3, 'day': 4, 'sunny': 5, 'rainy': 6, 'it': 7}\n"
     ]
    }
   ],
   "source": [
    "tokenizer.fit_on_texts(sentences)\n",
    "word_index = tokenizer.word_index\n",
    "print(word_index)"
   ]
  },
  {
   "cell_type": "code",
   "execution_count": 25,
   "metadata": {},
   "outputs": [
    {
     "name": "stdout",
     "output_type": "stream",
     "text": [
      "{'today': 1, 'is': 2, 'a': 3, 'sunny': 4, 'day': 5, 'rainy': 6, 'it': 7}\n",
      "\n",
      " [[1, 2, 3, 4, 5], [1, 2, 3, 6, 5], [2, 7, 4, 1]]\n"
     ]
    }
   ],
   "source": [
    "sentences = [\n",
    "    'Today is a sunny day',\n",
    "    'Today is a rainy day',\n",
    "    'Is it sunny today?'\n",
    "]\n",
    "tokenizer = Tokenizer(num_words=100)\n",
    "tokenizer.fit_on_texts(sentences)\n",
    "word_index = tokenizer.word_index\n",
    "print(word_index)\n",
    "\n",
    "sequences = tokenizer.texts_to_sequences(sentences)\n",
    "print('\\n', sequences)"
   ]
  },
  {
   "cell_type": "code",
   "execution_count": 27,
   "metadata": {},
   "outputs": [
    {
     "name": "stdout",
     "output_type": "stream",
     "text": [
      "{'today': 1, 'is': 2, 'a': 3, 'sunny': 4, 'day': 5, 'rainy': 6, 'it': 7}\n",
      "\n",
      " [[1, 2, 3, 5], [7, 6]]\n"
     ]
    }
   ],
   "source": [
    "test_data = [\n",
    "    'Today is a snowy day',\n",
    "    'Will it be rainy tomorrow'\n",
    "]\n",
    "\n",
    "test_sequences = tokenizer.texts_to_sequences(test_data)\n",
    "print(word_index)\n",
    "print('\\n', test_sequences)"
   ]
  },
  {
   "cell_type": "code",
   "execution_count": 29,
   "metadata": {},
   "outputs": [
    {
     "name": "stdout",
     "output_type": "stream",
     "text": [
      "{'<OOV>': 1, 'today': 2, 'is': 3, 'a': 4, 'sunny': 5, 'day': 6, 'rainy': 7, 'it': 8}\n",
      "[[2, 3, 4, 1, 6], [1, 8, 1, 7, 1]]\n"
     ]
    }
   ],
   "source": [
    "# Out-of-vocabulary token\n",
    "tokenizer = Tokenizer(num_words=100, oov_token='<OOV>')\n",
    "tokenizer.fit_on_texts(sentences)\n",
    "word_index = tokenizer.word_index\n",
    "\n",
    "sequences = tokenizer.texts_to_sequences(sentences)\n",
    "\n",
    "test_sequences = tokenizer.texts_to_sequences(test_data)\n",
    "print(word_index)\n",
    "print(test_sequences)"
   ]
  },
  {
   "cell_type": "code",
   "execution_count": 6,
   "metadata": {},
   "outputs": [
    {
     "name": "stdout",
     "output_type": "stream",
     "text": [
      "[[1, 2, 3, 4, 5], [1, 2, 3, 6, 5], [2, 7, 4, 1], [8, 9, 10, 11, 12, 13, 14, 1]]\n"
     ]
    }
   ],
   "source": [
    "import pprint\n",
    "import tensorflow as tf\n",
    "from tensorflow import keras\n",
    "from tensorflow.keras.preprocessing.text import Tokenizer\n",
    "pp = pprint.PrettyPrinter(indent=4)\n",
    "sentences = [\n",
    "    'Today is a sunny day',\n",
    "    'Today is a rainy day',\n",
    "    'Is it sunny today?',\n",
    "    'I really enjoyed walking in the snow today'\n",
    "]\n",
    "tokenizer = Tokenizer(num_words=100)\n",
    "tokenizer.fit_on_texts(sentences)\n",
    "word_index = tokenizer.word_index\n",
    "\n",
    "sequences = tokenizer.texts_to_sequences(sentences)\n",
    "\n",
    "pp.pprint(sequences)\n"
   ]
  },
  {
   "cell_type": "code",
   "execution_count": 15,
   "metadata": {},
   "outputs": [
    {
     "name": "stdout",
     "output_type": "stream",
     "text": [
      "  (0, 6)\t1\n",
      "  (0, 3)\t2\n",
      "  (1, 7)\t1\n",
      "  (1, 5)\t1\n",
      "  (1, 1)\t1\n",
      "  (2, 4)\t1\n",
      "  (2, 0)\t1\n",
      "  (2, 2)\t1\n",
      "\n",
      " [[0 0 0 2 0 0 1 0]\n",
      " [0 1 0 0 0 1 0 1]\n",
      " [1 0 1 0 1 0 0 0]]\n"
     ]
    }
   ],
   "source": [
    "# Encoding Text as a Bag of Words\n",
    "\n",
    "import numpy as np\n",
    "from sklearn.feature_extraction.text import CountVectorizer\n",
    "\n",
    "# Create text\n",
    "text_data = np.array(['I love Brazil. Brazil!',\n",
    "                     'Sweden is best',\n",
    "                     'Germany beats both'])\n",
    "\n",
    "# Create the bag of words feature matrix\n",
    "count = CountVectorizer()\n",
    "bag_of_words = count.fit_transform(text_data)\n",
    "\n",
    "# Show feature matrix\n",
    "print(bag_of_words)\n",
    "\n",
    "print('\\n', bag_of_words.toarray())"
   ]
  },
  {
   "cell_type": "code",
   "execution_count": 16,
   "metadata": {},
   "outputs": [
    {
     "data": {
      "text/plain": [
       "['beats', 'best', 'both', 'brazil', 'germany', 'is', 'love', 'sweden']"
      ]
     },
     "execution_count": 16,
     "metadata": {},
     "output_type": "execute_result"
    }
   ],
   "source": [
    "# Show feature names\n",
    "count.get_feature_names()"
   ]
  },
  {
   "cell_type": "code",
   "execution_count": 52,
   "metadata": {},
   "outputs": [
    {
     "name": "stdout",
     "output_type": "stream",
     "text": [
      "[[0 0 0 2 0 0 1 0]\n",
      " [0 1 0 0 0 1 0 1]\n",
      " [1 0 1 0 1 0 0 0]]\n"
     ]
    }
   ],
   "source": [
    "# Reducing Features on Sparse Data\n",
    "\n",
    "# Load libraries\n",
    "from sklearn.preprocessing import StandardScaler\n",
    "from sklearn.decomposition import TruncatedSVD\n",
    "import numpy as np\n",
    "\n",
    "array = bag_of_words.toarray()\n",
    "print(array)\n",
    "    \n",
    "# Standardize feature matrix\n",
    "tsvd = TruncatedSVD(n_components=5)\n",
    "features_sparse_tsvd = tsvd.fit(array).transform(array)\n"
   ]
  },
  {
   "cell_type": "code",
   "execution_count": 43,
   "metadata": {},
   "outputs": [
    {
     "name": "stdout",
     "output_type": "stream",
     "text": [
      "Original number of features: 8\n",
      "Reduced number of features: 3\n"
     ]
    }
   ],
   "source": [
    "print('Original number of features:', bag_of_words.shape[1])\n",
    "print('Reduced number of features:', features_sparse_tsvd.shape[1])"
   ]
  },
  {
   "cell_type": "code",
   "execution_count": 58,
   "metadata": {},
   "outputs": [
    {
     "data": {
      "text/plain": [
       "array([[<AxesSubplot:xlabel='0', ylabel='0'>,\n",
       "        <AxesSubplot:xlabel='1', ylabel='0'>,\n",
       "        <AxesSubplot:xlabel='2', ylabel='0'>,\n",
       "        <AxesSubplot:xlabel='3', ylabel='0'>,\n",
       "        <AxesSubplot:xlabel='4', ylabel='0'>,\n",
       "        <AxesSubplot:xlabel='5', ylabel='0'>,\n",
       "        <AxesSubplot:xlabel='6', ylabel='0'>,\n",
       "        <AxesSubplot:xlabel='7', ylabel='0'>],\n",
       "       [<AxesSubplot:xlabel='0', ylabel='1'>,\n",
       "        <AxesSubplot:xlabel='1', ylabel='1'>,\n",
       "        <AxesSubplot:xlabel='2', ylabel='1'>,\n",
       "        <AxesSubplot:xlabel='3', ylabel='1'>,\n",
       "        <AxesSubplot:xlabel='4', ylabel='1'>,\n",
       "        <AxesSubplot:xlabel='5', ylabel='1'>,\n",
       "        <AxesSubplot:xlabel='6', ylabel='1'>,\n",
       "        <AxesSubplot:xlabel='7', ylabel='1'>],\n",
       "       [<AxesSubplot:xlabel='0', ylabel='2'>,\n",
       "        <AxesSubplot:xlabel='1', ylabel='2'>,\n",
       "        <AxesSubplot:xlabel='2', ylabel='2'>,\n",
       "        <AxesSubplot:xlabel='3', ylabel='2'>,\n",
       "        <AxesSubplot:xlabel='4', ylabel='2'>,\n",
       "        <AxesSubplot:xlabel='5', ylabel='2'>,\n",
       "        <AxesSubplot:xlabel='6', ylabel='2'>,\n",
       "        <AxesSubplot:xlabel='7', ylabel='2'>],\n",
       "       [<AxesSubplot:xlabel='0', ylabel='3'>,\n",
       "        <AxesSubplot:xlabel='1', ylabel='3'>,\n",
       "        <AxesSubplot:xlabel='2', ylabel='3'>,\n",
       "        <AxesSubplot:xlabel='3', ylabel='3'>,\n",
       "        <AxesSubplot:xlabel='4', ylabel='3'>,\n",
       "        <AxesSubplot:xlabel='5', ylabel='3'>,\n",
       "        <AxesSubplot:xlabel='6', ylabel='3'>,\n",
       "        <AxesSubplot:xlabel='7', ylabel='3'>],\n",
       "       [<AxesSubplot:xlabel='0', ylabel='4'>,\n",
       "        <AxesSubplot:xlabel='1', ylabel='4'>,\n",
       "        <AxesSubplot:xlabel='2', ylabel='4'>,\n",
       "        <AxesSubplot:xlabel='3', ylabel='4'>,\n",
       "        <AxesSubplot:xlabel='4', ylabel='4'>,\n",
       "        <AxesSubplot:xlabel='5', ylabel='4'>,\n",
       "        <AxesSubplot:xlabel='6', ylabel='4'>,\n",
       "        <AxesSubplot:xlabel='7', ylabel='4'>],\n",
       "       [<AxesSubplot:xlabel='0', ylabel='5'>,\n",
       "        <AxesSubplot:xlabel='1', ylabel='5'>,\n",
       "        <AxesSubplot:xlabel='2', ylabel='5'>,\n",
       "        <AxesSubplot:xlabel='3', ylabel='5'>,\n",
       "        <AxesSubplot:xlabel='4', ylabel='5'>,\n",
       "        <AxesSubplot:xlabel='5', ylabel='5'>,\n",
       "        <AxesSubplot:xlabel='6', ylabel='5'>,\n",
       "        <AxesSubplot:xlabel='7', ylabel='5'>],\n",
       "       [<AxesSubplot:xlabel='0', ylabel='6'>,\n",
       "        <AxesSubplot:xlabel='1', ylabel='6'>,\n",
       "        <AxesSubplot:xlabel='2', ylabel='6'>,\n",
       "        <AxesSubplot:xlabel='3', ylabel='6'>,\n",
       "        <AxesSubplot:xlabel='4', ylabel='6'>,\n",
       "        <AxesSubplot:xlabel='5', ylabel='6'>,\n",
       "        <AxesSubplot:xlabel='6', ylabel='6'>,\n",
       "        <AxesSubplot:xlabel='7', ylabel='6'>],\n",
       "       [<AxesSubplot:xlabel='0', ylabel='7'>,\n",
       "        <AxesSubplot:xlabel='1', ylabel='7'>,\n",
       "        <AxesSubplot:xlabel='2', ylabel='7'>,\n",
       "        <AxesSubplot:xlabel='3', ylabel='7'>,\n",
       "        <AxesSubplot:xlabel='4', ylabel='7'>,\n",
       "        <AxesSubplot:xlabel='5', ylabel='7'>,\n",
       "        <AxesSubplot:xlabel='6', ylabel='7'>,\n",
       "        <AxesSubplot:xlabel='7', ylabel='7'>]], dtype=object)"
      ]
     },
     "execution_count": 58,
     "metadata": {},
     "output_type": "execute_result"
    },
    {
     "data": {
      "image/png": "[encoded data removed]",
      "text/plain": [
       "<Figure size 432x288 with 64 Axes>"
      ]
     },
     "metadata": {
      "needs_background": "light"
     },
     "output_type": "display_data"
    }
   ],
   "source": [
    "import pandas as pd\n",
    "import matplotlib.pyplot as plt\n",
    "\n",
    "df = pd.DataFrame(data=array)\n",
    "pd.plotting.scatter_matrix(df)"
   ]
  },
  {
   "cell_type": "code",
   "execution_count": null,
   "metadata": {},
   "outputs": [],
   "source": []
  },
  {
   "cell_type": "code",
   "execution_count": null,
   "metadata": {},
   "outputs": [],
   "source": []
  },
  {
   "cell_type": "code",
   "execution_count": null,
   "metadata": {},
   "outputs": [],
   "source": []
  },
  {
   "cell_type": "code",
   "execution_count": null,
   "metadata": {},
   "outputs": [],
   "source": []
  },
  {
   "cell_type": "code",
   "execution_count": null,
   "metadata": {},
   "outputs": [],
   "source": []
  },
  {
   "cell_type": "code",
   "execution_count": null,
   "metadata": {},
   "outputs": [],
   "source": []
  },
  {
   "cell_type": "code",
   "execution_count": null,
   "metadata": {},
   "outputs": [],
   "source": []
  },
  {
   "cell_type": "code",
   "execution_count": null,
   "metadata": {},
   "outputs": [],
   "source": []
  },
  {
   "cell_type": "code",
   "execution_count": null,
   "metadata": {},
   "outputs": [],
   "source": []
  },
  {
   "cell_type": "code",
   "execution_count": null,
   "metadata": {},
   "outputs": [],
   "source": []
  },
  {
   "cell_type": "code",
   "execution_count": null,
   "metadata": {},
   "outputs": [],
   "source": []
  },
  {
   "cell_type": "code",
   "execution_count": null,
   "metadata": {},
   "outputs": [],
   "source": []
  },
  {
   "cell_type": "code",
   "execution_count": null,
   "metadata": {},
   "outputs": [],
   "source": []
  },
  {
   "cell_type": "code",
   "execution_count": null,
   "metadata": {},
   "outputs": [],
   "source": []
  }
 ],
 "metadata": {
  "kernelspec": {
   "display_name": "Python 3",
   "language": "python",
   "name": "python3"
  },
  "language_info": {
   "codemirror_mode": {
    "name": "ipython",
    "version": 3
   },
   "file_extension": ".py",
   "mimetype": "text/x-python",
   "name": "python",
   "nbconvert_exporter": "python",
   "pygments_lexer": "ipython3",
   "version": "3.8.5"
  }
 },
 "nbformat": 4,
 "nbformat_minor": 4
}
