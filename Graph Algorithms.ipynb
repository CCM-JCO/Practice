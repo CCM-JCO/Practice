{
 "cells": [
  {
   "cell_type": "code",
   "execution_count": 1,
   "metadata": {},
   "outputs": [],
   "source": [
    "import networkx as nx\n",
    "import matplotlib.pyplot as plt"
   ]
  },
  {
   "cell_type": "code",
   "execution_count": 2,
   "metadata": {},
   "outputs": [],
   "source": [
    "vertices = range(1, 11)\n",
    "edges = [(7,2), (2,3), (7,4), (4,5), (7,3), (7,5), (1,6), (1,7), (2, 8), (2, 9), (7, 9), (10, 3), (10, 9)]"
   ]
  },
  {
   "cell_type": "code",
   "execution_count": 3,
   "metadata": {},
   "outputs": [
    {
     "data": {
      "image/png": "[encoded data removed]",
      "text/plain": [
       "<Figure size 432x288 with 1 Axes>"
      ]
     },
     "metadata": {},
     "output_type": "display_data"
    }
   ],
   "source": [
    "G = nx.Graph()\n",
    "G.add_nodes_from(vertices)\n",
    "G.add_edges_from(edges)\n",
    "nx.draw(G, with_labels=True, node_color='y', node_size=800)"
   ]
  },
  {
   "cell_type": "code",
   "execution_count": 4,
   "metadata": {},
   "outputs": [
    {
     "data": {
      "text/plain": [
       "{1: 0.2222222222222222,\n",
       " 2: 0.4444444444444444,\n",
       " 3: 0.3333333333333333,\n",
       " 4: 0.2222222222222222,\n",
       " 5: 0.2222222222222222,\n",
       " 6: 0.1111111111111111,\n",
       " 7: 0.6666666666666666,\n",
       " 8: 0.1111111111111111,\n",
       " 9: 0.3333333333333333,\n",
       " 10: 0.2222222222222222}"
      ]
     },
     "execution_count": 4,
     "metadata": {},
     "output_type": "execute_result"
    }
   ],
   "source": [
    "nx.degree_centrality(G)"
   ]
  },
  {
   "cell_type": "code",
   "execution_count": 5,
   "metadata": {},
   "outputs": [
    {
     "data": {
      "text/plain": [
       "0.28888888888888886"
      ]
     },
     "execution_count": 5,
     "metadata": {},
     "output_type": "execute_result"
    }
   ],
   "source": [
    "nx.density(G)"
   ]
  },
  {
   "cell_type": "code",
   "execution_count": 6,
   "metadata": {},
   "outputs": [
    {
     "data": {
      "text/plain": [
       "{1: 0.2222222222222222,\n",
       " 2: 0.23148148148148143,\n",
       " 3: 0.09722222222222221,\n",
       " 4: 0.0,\n",
       " 5: 0.0,\n",
       " 6: 0.0,\n",
       " 7: 0.6759259259259258,\n",
       " 8: 0.0,\n",
       " 9: 0.09722222222222221,\n",
       " 10: 0.009259259259259259}"
      ]
     },
     "execution_count": 6,
     "metadata": {},
     "output_type": "execute_result"
    }
   ],
   "source": [
    "nx.betweenness_centrality(G)"
   ]
  },
  {
   "cell_type": "code",
   "execution_count": 7,
   "metadata": {},
   "outputs": [
    {
     "data": {
      "text/plain": [
       "{1: 0.5,\n",
       " 2: 0.6,\n",
       " 3: 0.5625,\n",
       " 4: 0.47368421052631576,\n",
       " 5: 0.47368421052631576,\n",
       " 6: 0.34615384615384615,\n",
       " 7: 0.75,\n",
       " 8: 0.391304347826087,\n",
       " 9: 0.5625,\n",
       " 10: 0.4090909090909091}"
      ]
     },
     "execution_count": 7,
     "metadata": {},
     "output_type": "execute_result"
    }
   ],
   "source": [
    "nx.closeness_centrality(G)"
   ]
  },
  {
   "cell_type": "code",
   "execution_count": 8,
   "metadata": {},
   "outputs": [
    {
     "data": {
      "text/plain": [
       "[(1, '0.19'),\n",
       " (2, '0.43'),\n",
       " (3, '0.37'),\n",
       " (4, '0.24'),\n",
       " (5, '0.24'),\n",
       " (6, '0.06'),\n",
       " (7, '0.56'),\n",
       " (8, '0.13'),\n",
       " (9, '0.37'),\n",
       " (10, '0.22')]"
      ]
     },
     "execution_count": 8,
     "metadata": {},
     "output_type": "execute_result"
    }
   ],
   "source": [
    "centrality = nx.eigenvector_centrality(G)\n",
    "sorted((v, '{:0.2f}'.format(c)) for v, c in centrality.items())"
   ]
  },
  {
   "cell_type": "code",
   "execution_count": 9,
   "metadata": {},
   "outputs": [],
   "source": [
    "graph = {'Amin' : {'Wasim', 'Nick', 'Mike'},\n",
    "         'Wasim' : {'Imran', 'Amin'},\n",
    "         'Imran' : {'Wasim', 'Faras'},\n",
    "         'Faras' : {'Imran'},\n",
    "         'Mike' : {'Amin'},\n",
    "         'Nick' : {'Amin'}}"
   ]
  },
  {
   "cell_type": "code",
   "execution_count": 10,
   "metadata": {},
   "outputs": [],
   "source": [
    "def bfs(graph, start):\n",
    "    visited = []\n",
    "    queue = [start]\n",
    "    \n",
    "    while queue:\n",
    "        node = queue.pop(0)\n",
    "        if node not in visited:\n",
    "            visited.append(node)\n",
    "            neighbours = graph[node]\n",
    "            for neighbour in neighbours:\n",
    "                queue.append(neighbour)\n",
    "    return visited"
   ]
  },
  {
   "cell_type": "code",
   "execution_count": 11,
   "metadata": {},
   "outputs": [
    {
     "data": {
      "text/plain": [
       "['Amin', 'Wasim', 'Nick', 'Mike', 'Imran', 'Faras']"
      ]
     },
     "execution_count": 11,
     "metadata": {},
     "output_type": "execute_result"
    }
   ],
   "source": [
    "bfs(graph, 'Amin')"
   ]
  },
  {
   "cell_type": "code",
   "execution_count": 12,
   "metadata": {},
   "outputs": [],
   "source": [
    "def dfs(graph, start, visited=None):\n",
    "    if visited is None:\n",
    "        visited = set()\n",
    "    visited.add(start)\n",
    "    print(start)\n",
    "    for next in graph[start] - visited:\n",
    "        dfs(graph, next, visited)\n",
    "    return visited"
   ]
  },
  {
   "cell_type": "code",
   "execution_count": 13,
   "metadata": {},
   "outputs": [
    {
     "name": "stdout",
     "output_type": "stream",
     "text": [
      "Amin\n",
      "Wasim\n",
      "Imran\n",
      "Faras\n",
      "Nick\n",
      "Mike\n"
     ]
    },
    {
     "data": {
      "text/plain": [
       "{'Amin', 'Faras', 'Imran', 'Mike', 'Nick', 'Wasim'}"
      ]
     },
     "execution_count": 13,
     "metadata": {},
     "output_type": "execute_result"
    }
   ],
   "source": [
    "dfs(graph, 'Amin')"
   ]
  },
  {
   "cell_type": "code",
   "execution_count": 14,
   "metadata": {},
   "outputs": [],
   "source": [
    "import networkx as nx\n",
    "import matplotlib.pyplot as plt"
   ]
  },
  {
   "cell_type": "code",
   "execution_count": 15,
   "metadata": {},
   "outputs": [],
   "source": [
    "vertices =  range(1, 10)\n",
    "edges = [(7,2), (2,3), (7,4), (4,5), (7,3), (7,5), (1,6), (1,7), (2, 8), (2, 9)]"
   ]
  },
  {
   "cell_type": "code",
   "execution_count": 16,
   "metadata": {},
   "outputs": [],
   "source": [
    "# Instantiating the Graph\n",
    "G = nx.Graph()"
   ]
  },
  {
   "cell_type": "code",
   "execution_count": 17,
   "metadata": {},
   "outputs": [],
   "source": [
    "# Drawing the Graph\n",
    "G.add_nodes_from(vertices)\n",
    "G.add_edges_from(edges)\n",
    "pos = nx.spring_layout(G)"
   ]
  },
  {
   "cell_type": "code",
   "execution_count": 21,
   "metadata": {},
   "outputs": [
    {
     "data": {
      "text/plain": [
       "<matplotlib.collections.PathCollection at 0x2a39f9748e0>"
      ]
     },
     "execution_count": 21,
     "metadata": {},
     "output_type": "execute_result"
    },
    {
     "data": {
      "image/png": "[encoded data removed]",
      "text/plain": [
       "<Figure size 432x288 with 1 Axes>"
      ]
     },
     "metadata": {},
     "output_type": "display_data"
    }
   ],
   "source": [
    "# Creating the NF nodes (Not Fraud)\n",
    "nx.draw_networkx_nodes(G,pos,\n",
    "                      nodelist=[1, 4, 3, 8, 9],\n",
    "                      label=True,\n",
    "                      node_color='g',\n",
    "                      node_size=100)"
   ]
  },
  {
   "cell_type": "code",
   "execution_count": 22,
   "metadata": {},
   "outputs": [
    {
     "data": {
      "text/plain": [
       "<matplotlib.collections.PathCollection at 0x2a39fb22c70>"
      ]
     },
     "execution_count": 22,
     "metadata": {},
     "output_type": "execute_result"
    },
    {
     "data": {
      "image/png": "[encoded data removed]",
      "text/plain": [
       "<Figure size 432x288 with 1 Axes>"
      ]
     },
     "metadata": {},
     "output_type": "display_data"
    }
   ],
   "source": [
    "nx.draw_networkx_nodes(G, pos,\n",
    "                      nodelist=[2, 5, 6, 7],\n",
    "                      label=True,\n",
    "                      node_color='r',\n",
    "                      node_size=100)"
   ]
  },
  {
   "cell_type": "code",
   "execution_count": 23,
   "metadata": {},
   "outputs": [
    {
     "data": {
      "text/plain": [
       "{1: Text(0.4704696722714397, -0.3730768375059614, '1 NF'),\n",
       " 2: Text(-0.4647538097703839, 0.024338742360850426, '2 F'),\n",
       " 3: Text(-0.27711967078100286, 0.35066130834698916, '3 NF'),\n",
       " 4: Text(0.5550512571862721, 0.4293018096263273, '4 NF'),\n",
       " 5: Text(0.3387519200140965, 0.6316755103992583, '5 F'),\n",
       " 6: Text(0.6625315027820589, -0.832763752734832, '6 F'),\n",
       " 7: Text(0.13698521025165858, 0.16727817106252188, '7F'),\n",
       " 8: Text(-1.0, 0.0057618203633586764, '8NF'),\n",
       " 9: Text(-0.4219160819541394, -0.40317677191851226, '9 NF')}"
      ]
     },
     "execution_count": 23,
     "metadata": {},
     "output_type": "execute_result"
    },
    {
     "data": {
      "image/png": "[encoded data removed]",
      "text/plain": [
       "<Figure size 432x288 with 1 Axes>"
      ]
     },
     "metadata": {},
     "output_type": "display_data"
    }
   ],
   "source": [
    "nx.draw_networkx_edges(G, pos, edges, width=3, alpha=0.5, edge_color='b')\n",
    "labels ={}\n",
    "\n",
    "labels[1]=r'1 NF'\n",
    "labels[2]=r'2 F'\n",
    "labels[3]=r'3 NF'\n",
    "labels[4]=r'4 NF'\n",
    "labels[5]=r'5 F'\n",
    "labels[6]=r'6 F'\n",
    "labels[7]=r'7F'\n",
    "labels[8]=r'8NF'\n",
    "labels[9]=r'9 NF'\n",
    "\n",
    "nx.draw_networkx_labels(G, pos, labels, font_size=16)"
   ]
  },
  {
   "cell_type": "code",
   "execution_count": null,
   "metadata": {},
   "outputs": [],
   "source": []
  },
  {
   "cell_type": "code",
   "execution_count": null,
   "metadata": {},
   "outputs": [],
   "source": []
  },
  {
   "cell_type": "code",
   "execution_count": null,
   "metadata": {},
   "outputs": [],
   "source": []
  }
 ],
 "metadata": {
  "kernelspec": {
   "display_name": "Python 3",
   "language": "python",
   "name": "python3"
  },
  "language_info": {
   "codemirror_mode": {
    "name": "ipython",
    "version": 3
   },
   "file_extension": ".py",
   "mimetype": "text/x-python",
   "name": "python",
   "nbconvert_exporter": "python",
   "pygments_lexer": "ipython3",
   "version": "3.8.5"
  }
 },
 "nbformat": 4,
 "nbformat_minor": 4
}
